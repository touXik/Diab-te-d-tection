{
 "cells": [
  {
   "cell_type": "markdown",
   "id": "efa8d4f6-e455-47d3-aa1d-8f89dd1d95ec",
   "metadata": {},
   "source": [
    "# Diabète de type 2"
   ]
  },
  {
   "cell_type": "markdown",
   "id": "3e2e5db8-21e7-4b41-93d0-64e43d7de377",
   "metadata": {},
   "source": [
    "##  Fiche vulgarisée sur le diabète de type 2\n",
    " **Qu'est-ce que c'est le diabète de type 2 ?** est une maladie qui empeche le corps d'utiliser correctement le sucre comme source d'énergie,les personne atteintes de cette maladie sécrète de l'insuline,mais cette hormone régule avec moins d’efficacité le taux de sucre dans leur sang **la glycémie**\n",
    " \n",
    " **la glycémie** : c'est la quantité de glucose dans le sang.\n",
    "\n",
    " **cause:** souvent lié à l'alimentation,au manque d'activité physique et l'hérédité.\n",
    " \n",
    " **les symptome du diabète de type 2 :** Les symptômes du diabète de type 2 sont discrets et il est le plus souvent diagnostiqué à l’occasion d’une prise de sang. Les symptômes des complications du diabète de type 2 sont une difficulté à cicatriser, une perte de sensibilité au niveau des pieds, des troubles de la vision, une insuffisance rénale, un infarctus ou un AVC.\n",
    "\n",
    " **Traitement:** changement d'alimentation,activité physique ,médicament ou parfois insuline. \n",
    "\n",
    "**source**: \n",
    "https://www.vidal.fr/maladies/metabolisme-diabete/diabete-type-2.html\n"
   ]
  }
 ],
 "metadata": {
  "kernelspec": {
   "display_name": "Python [conda env:base] *",
   "language": "python",
   "name": "conda-base-py"
  },
  "language_info": {
   "codemirror_mode": {
    "name": "ipython",
    "version": 3
   },
   "file_extension": ".py",
   "mimetype": "text/x-python",
   "name": "python",
   "nbconvert_exporter": "python",
   "pygments_lexer": "ipython3",
   "version": "3.12.7"
  }
 },
 "nbformat": 4,
 "nbformat_minor": 5
}
