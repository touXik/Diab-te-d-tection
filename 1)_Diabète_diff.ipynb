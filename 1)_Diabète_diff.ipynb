{
 "cells": [
  {
   "cell_type": "markdown",
   "id": "efa8d4f6-e455-47d3-aa1d-8f89dd1d95ec",
   "metadata": {},
   "source": [
    "# Diabète de type 2"
   ]
  },
  {
   "cell_type": "markdown",
   "id": "1613cd71-78d9-44fe-a196-f7301204c9e7",
   "metadata": {},
   "source": [
    "# hh"
   ]
  },
  {
   "cell_type": "code",
   "execution_count": null,
   "id": "f6014133-307f-4fc8-9bd8-397a1c2d2656",
   "metadata": {},
   "outputs": [],
   "source": []
  }
 ],
 "metadata": {
  "kernelspec": {
   "display_name": "Python [conda env:base] *",
   "language": "python",
   "name": "conda-base-py"
  },
  "language_info": {
   "codemirror_mode": {
    "name": "ipython",
    "version": 3
   },
   "file_extension": ".py",
   "mimetype": "text/x-python",
   "name": "python",
   "nbconvert_exporter": "python",
   "pygments_lexer": "ipython3",
   "version": "3.12.7"
  }
 },
 "nbformat": 4,
 "nbformat_minor": 5
}
