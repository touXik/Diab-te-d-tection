{
 "cells": [
  {
   "cell_type": "markdown",
   "id": "3715d87f-35d7-4148-bd58-0cb4cad8dafb",
   "metadata": {},
   "source": [
    "# 1. Exploratory Data Analysis"
   ]
  },
  {
   "cell_type": "markdown",
   "id": "295ac3fb-c770-4832-8a27-a4615636c089",
   "metadata": {},
   "source": [
    "##  1. Chargement des données\n",
    "Lire le fichier (CSV, Excel, SQL, etc.)\n",
    "\n",
    "Aperçu général : .head(), .shape, .info(), .describe()\n",
    "\n",
    "🔹 2. Compréhension du contexte métier\n",
    "Quelle est la cible (target) ?\n",
    "\n",
    "Que représente chaque variable ?\n",
    "\n",
    "Quelle est la finalité (ex : prédire une maladie, un score, une vente) ?\n",
    "\n",
    "🔹 3. Analyse des variables\n",
    "a. Quantitatives (nombres) :\n",
    "Moyenne, médiane, min/max, écart-type\n",
    "\n",
    "Distribution (histogrammes, boxplots)\n",
    "\n",
    "Détection des outliers\n",
    "\n",
    "b. Qualitatives (catégorielles) :\n",
    "Nombre de classes, fréquence\n",
    "\n",
    "Bar charts / pie charts\n",
    "\n",
    "🔹 4. Valeurs manquantes\n",
    "Pourcentage de valeurs nulles\n",
    "\n",
    "Répartition par variable\n",
    "\n",
    "Visualisation avec missingno ou heatmaps\n",
    "\n",
    "Plan de traitement : suppression, imputation, etc.\n",
    "\n",
    "🔹 5. Corrélations entre variables\n",
    "Matrice de corrélation (heatmap)\n",
    "\n",
    "Vérifier multicolinéarité\n",
    "\n",
    "Étude croisée entre variables : pairplot, groupby, etc.\n",
    "\n",
    "🔹 6. Analyse de la variable cible (target)\n",
    "Distribution (équilibre ou déséquilibre ?)\n",
    "\n",
    "Taux de classes (pour classification)\n",
    "\n",
    "Analyse bivariée : target vs features\n",
    "\n",
    "Boxplots, Violinplots, t-tests, ANOVA\n",
    "\n",
    "Tests statistiques pour les hypothèses (H0)\n",
    "\n",
    "🔹 7. Détection des anomalies et valeurs aberrantes\n",
    "Visualisation : Boxplots, Z-score, IQR\n",
    "\n",
    "Impact potentiel sur la modélisation\n",
    "\n",
    "🔹 8. Formulation d’hypothèses\n",
    "Exemples :\n",
    "\n",
    "\"Les patients covid+ ont un taux de leucocytes plus élevé que les autres\"\n",
    "\n",
    "\"L’âge est inversement lié à la présence de tel symptôme\"\n",
    "\n",
    "🔹 9. Préparation à la modélisation\n",
    "Sélection des variables pertinentes\n",
    "\n",
    "Idée de transformation : normalisation, standardisation, encodage\n",
    "\n",
    "Réflexion sur un plan de modélisation"
   ]
  },
  {
   "cell_type": "code",
   "execution_count": null,
   "id": "bdcaecdc-98c8-4a53-8b94-0fcc75a07c98",
   "metadata": {},
   "outputs": [],
   "source": []
  }
 ],
 "metadata": {
  "kernelspec": {
   "display_name": "Python [conda env:base] *",
   "language": "python",
   "name": "conda-base-py"
  },
  "language_info": {
   "codemirror_mode": {
    "name": "ipython",
    "version": 3
   },
   "file_extension": ".py",
   "mimetype": "text/x-python",
   "name": "python",
   "nbconvert_exporter": "python",
   "pygments_lexer": "ipython3",
   "version": "3.12.7"
  }
 },
 "nbformat": 4,
 "nbformat_minor": 5
}
