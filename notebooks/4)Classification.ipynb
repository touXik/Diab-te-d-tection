{
 "cells": [
  {
   "cell_type": "code",
   "execution_count": 1,
   "id": "7c1fd2de-fb60-49d0-9c6e-35864b55cc12",
   "metadata": {},
   "outputs": [],
   "source": [
    "import numpy as np\n",
    "import pandas as pd\n",
    "import matplotlib.pyplot as plt\n",
    "import seaborn as sns\n"
   ]
  },
  {
   "cell_type": "code",
   "execution_count": 9,
   "id": "10860362-4fd2-4716-a2fd-e868a8660162",
   "metadata": {},
   "outputs": [],
   "source": [
    "X_train = np.load(\"../data/X_train.npy\")\n",
    "Y_train = np.load(\"../data/Y_train.npy\")\n",
    "\n",
    "X_test = np.load(\"../data/X_test.npy\")\n",
    "Y_test = np.load(\"../data/Y_test.npy\")"
   ]
  },
  {
   "cell_type": "code",
   "execution_count": 5,
   "id": "a4e5e0e5-d9a5-421a-b406-37542e8cb46f",
   "metadata": {},
   "outputs": [
    {
     "data": {
      "text/plain": [
       "array([[ 0.93691372,  0.93179429, -0.01230129, ...,  0.39949233,\n",
       "         0.66479969,  1.76634642],\n",
       "       [ 0.04601433, -0.81056857, -0.69524511, ..., -0.61932681,\n",
       "        -0.08720986, -0.95646168],\n",
       "       [-1.14185152,  1.42491586,  0.44299459, ...,  2.88832195,\n",
       "        -0.13553176, -0.87137393],\n",
       "       ...,\n",
       "       [ 0.04601433, -0.90919289, -0.80906908, ..., -1.12873639,\n",
       "        -0.97814487, -1.04154944],\n",
       "       [ 2.12477957, -1.20506583, -0.01230129, ..., -0.34279019,\n",
       "        -0.51908683,  0.14967911],\n",
       "       [ 0.3429808 ,  0.4715475 , -0.01230129, ..., -0.02258989,\n",
       "         0.50775352,  3.04266271]])"
      ]
     },
     "execution_count": 5,
     "metadata": {},
     "output_type": "execute_result"
    }
   ],
   "source": [
    "X_trainset"
   ]
  },
  {
   "cell_type": "code",
   "execution_count": null,
   "id": "e192f9ed-df35-4bc7-a585-a2bf36bd0554",
   "metadata": {},
   "outputs": [],
   "source": []
  }
 ],
 "metadata": {
  "kernelspec": {
   "display_name": "Python [conda env:base] *",
   "language": "python",
   "name": "conda-base-py"
  },
  "language_info": {
   "codemirror_mode": {
    "name": "ipython",
    "version": 3
   },
   "file_extension": ".py",
   "mimetype": "text/x-python",
   "name": "python",
   "nbconvert_exporter": "python",
   "pygments_lexer": "ipython3",
   "version": "3.12.7"
  }
 },
 "nbformat": 4,
 "nbformat_minor": 5
}
