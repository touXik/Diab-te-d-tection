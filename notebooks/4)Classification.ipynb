{
 "cells": [
  {
   "cell_type": "code",
   "execution_count": 1,
   "id": "7c1fd2de-fb60-49d0-9c6e-35864b55cc12",
   "metadata": {},
   "outputs": [],
   "source": [
    "import numpy as np\n",
    "import pandas as pd\n",
    "import matplotlib.pyplot as plt\n",
    "import seaborn as sns\n"
   ]
  },
  {
   "cell_type": "code",
   "execution_count": 2,
   "id": "10860362-4fd2-4716-a2fd-e868a8660162",
   "metadata": {},
   "outputs": [],
   "source": [
    "X_train = np.load(\"../data/X_train.npy\")\n",
    "Y_train = np.load(\"../data/Y_train.npy\")\n",
    "\n",
    "X_test = np.load(\"../data/X_test.npy\")\n",
    "Y_test = np.load(\"../data/Y_test.npy\")"
   ]
  },
  {
   "cell_type": "code",
   "execution_count": 5,
   "id": "6b9e8cd7-2de5-48de-bfd8-111f2762e2bf",
   "metadata": {},
   "outputs": [],
   "source": [
    "from sklearn.linear_model import LogisticRegression\n",
    "from sklearn.tree import DecisionTreeClassifier\n",
    "from sklearn.ensemble import RandomForestClassifier\n",
    "from sklearn.neighbors import KNeighborsClassifier\n",
    "from sklearn.svm import SVC\n",
    "from sklearn.neural_network import MLPClassifier\n",
    "from sklearn.metrics import accuracy_score, classification_report\n",
    "from sklearn.metrics import confusion_matrix, ConfusionMatrixDisplay"
   ]
  },
  {
   "cell_type": "code",
   "execution_count": 21,
   "id": "e192f9ed-df35-4bc7-a585-a2bf36bd0554",
   "metadata": {},
   "outputs": [
    {
     "name": "stdout",
     "output_type": "stream",
     "text": [
      "\n",
      "🔹 Logistic Regression\n",
      "Accuracy: 0.8052\n",
      "              precision    recall  f1-score   support\n",
      "\n",
      "           0       0.83      0.90      0.86       107\n",
      "           1       0.72      0.60      0.65        47\n",
      "\n",
      "    accuracy                           0.81       154\n",
      "   macro avg       0.78      0.75      0.76       154\n",
      "weighted avg       0.80      0.81      0.80       154\n",
      "\n",
      "\n",
      "🔹 Decision Tree\n",
      "Accuracy: 0.7532\n",
      "              precision    recall  f1-score   support\n",
      "\n",
      "           0       0.84      0.79      0.82       107\n",
      "           1       0.58      0.66      0.62        47\n",
      "\n",
      "    accuracy                           0.75       154\n",
      "   macro avg       0.71      0.73      0.72       154\n",
      "weighted avg       0.76      0.75      0.76       154\n",
      "\n",
      "\n",
      "🔹 Random Forest\n",
      "Accuracy: 0.7922\n",
      "              precision    recall  f1-score   support\n",
      "\n",
      "           0       0.84      0.86      0.85       107\n",
      "           1       0.67      0.64      0.65        47\n",
      "\n",
      "    accuracy                           0.79       154\n",
      "   macro avg       0.76      0.75      0.75       154\n",
      "weighted avg       0.79      0.79      0.79       154\n",
      "\n",
      "\n",
      "🔹 KNN\n",
      "Accuracy: 0.7792\n",
      "              precision    recall  f1-score   support\n",
      "\n",
      "           0       0.83      0.86      0.84       107\n",
      "           1       0.65      0.60      0.62        47\n",
      "\n",
      "    accuracy                           0.78       154\n",
      "   macro avg       0.74      0.73      0.73       154\n",
      "weighted avg       0.77      0.78      0.78       154\n",
      "\n",
      "\n",
      "🔹 SVM\n",
      "Accuracy: 0.7987\n",
      "              precision    recall  f1-score   support\n",
      "\n",
      "           0       0.83      0.90      0.86       107\n",
      "           1       0.71      0.57      0.64        47\n",
      "\n",
      "    accuracy                           0.80       154\n",
      "   macro avg       0.77      0.74      0.75       154\n",
      "weighted avg       0.79      0.80      0.79       154\n",
      "\n",
      "\n",
      "🔹 MLP (Neural Net)\n",
      "Accuracy: 0.8182\n",
      "              precision    recall  f1-score   support\n",
      "\n",
      "           0       0.86      0.89      0.87       107\n",
      "           1       0.72      0.66      0.69        47\n",
      "\n",
      "    accuracy                           0.82       154\n",
      "   macro avg       0.79      0.77      0.78       154\n",
      "weighted avg       0.81      0.82      0.82       154\n",
      "\n"
     ]
    }
   ],
   "source": [
    "# Liste des modèles à tester\n",
    "models = {\n",
    "    \"Logistic Regression\": LogisticRegression(max_iter=1000),\n",
    "    \"Decision Tree\": DecisionTreeClassifier(),\n",
    "    \"Random Forest\": RandomForestClassifier(),\n",
    "    \"KNN\": KNeighborsClassifier(),\n",
    "    \"SVM\": SVC(),\n",
    "    \"MLP (Neural Net)\": MLPClassifier(max_iter=1000)\n",
    "}\n",
    "\n",
    "# Entraînement et évaluation\n",
    "for name, model in models.items():\n",
    "    model.fit(X_train, Y_train)\n",
    "    y_pred = model.predict(X_test)\n",
    "    acc = accuracy_score(Y_test, y_pred)\n",
    "    print(f\"\\n🔹 {name}\")\n",
    "    print(f\"Accuracy: {acc:.4f}\")\n",
    "    print(classification_report(Y_test, y_pred))\n",
    "\n"
   ]
  },
  {
   "cell_type": "code",
   "execution_count": 17,
   "id": "d263f8a1-ce59-4683-adc9-eca0c8171104",
   "metadata": {},
   "outputs": [
    {
     "data": {
      "text/plain": [
       "<sklearn.metrics._plot.confusion_matrix.ConfusionMatrixDisplay at 0x1ce32723fe0>"
      ]
     },
     "execution_count": 17,
     "metadata": {},
     "output_type": "execute_result"
    },
    {
     "data": {
      "image/png": "[encoded data removed]",
      "text/plain": [
       "<Figure size 640x480 with 2 Axes>"
      ]
     },
     "metadata": {},
     "output_type": "display_data"
    }
   ],
   "source": [
    "from sklearn.metrics import confusion_matrix, ConfusionMatrixDisplay\n",
    "\n",
    "cm = confusion_matrix(Y_test, y_pred)\n",
    "disp = ConfusionMatrixDisplay(confusion_matrix=cm)\n",
    "disp.plot()\n"
   ]
  },
  {
   "cell_type": "code",
   "execution_count": 11,
   "id": "5b0e5ee0-165f-4d00-8d16-90c67844c49b",
   "metadata": {},
   "outputs": [
    {
     "data": {
      "text/plain": [
       "['../output/mlp_model.pkl']"
      ]
     },
     "execution_count": 11,
     "metadata": {},
     "output_type": "execute_result"
    }
   ],
   "source": [
    "import joblib \n",
    "model = MLPClassifier(max_iter=1000, random_state=42)\n",
    "model.fit(X_train, Y_train)\n",
    "\n",
    "# Sauvegarder le modèle\n",
    "joblib.dump(model, \"../output/mlp_model.pkl\")"
   ]
  },
  {
   "cell_type": "code",
   "execution_count": 13,
   "id": "95affc8d-9d89-4207-a81a-b6599eb58c61",
   "metadata": {},
   "outputs": [],
   "source": [
    "\n",
    "y_pred = model.predict(X_test)\n",
    "\n",
    "\n",
    "df_pred = pd.DataFrame({\n",
    "    \"True_Label\": Y_test,\n",
    "    \"Predicted_Label\": y_pred\n",
    "})\n",
    "df_pred.to_csv(\"../output/predictions.csv\", index=False)\n",
    "\n",
    "\n",
    "report = classification_report(Y_test, y_pred, output_dict=True)\n",
    "df_report = pd.DataFrame(report).transpose()\n",
    "df_report.to_csv(\"../output/classification_report.csv\")\n",
    "\n",
    "\n",
    "conf_matrix = confusion_matrix(Y_test, y_pred)\n",
    "df_conf_matrix = pd.DataFrame(conf_matrix)\n",
    "df_conf_matrix.to_csv(\"../output/confusion_matrix.csv\", index=False)\n"
   ]
  },
  {
   "cell_type": "code",
   "execution_count": null,
   "id": "358ad52e-79ba-4042-a0c3-1df51aa00d97",
   "metadata": {},
   "outputs": [],
   "source": []
  }
 ],
 "metadata": {
  "kernelspec": {
   "display_name": "Python [conda env:base] *",
   "language": "python",
   "name": "conda-base-py"
  },
  "language_info": {
   "codemirror_mode": {
    "name": "ipython",
    "version": 3
   },
   "file_extension": ".py",
   "mimetype": "text/x-python",
   "name": "python",
   "nbconvert_exporter": "python",
   "pygments_lexer": "ipython3",
   "version": "3.12.7"
  }
 },
 "nbformat": 4,
 "nbformat_minor": 5
}
