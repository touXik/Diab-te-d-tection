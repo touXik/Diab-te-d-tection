{
 "cells": [
  {
   "cell_type": "markdown",
   "id": "3715d87f-35d7-4148-bd58-0cb4cad8dafb",
   "metadata": {},
   "source": [
    "# 1. Exploratory Data Analysis"
   ]
  },
  {
   "cell_type": "markdown",
   "id": "295ac3fb-c770-4832-8a27-a4615636c089",
   "metadata": {},
   "source": [
    "##  1. Chargement des données\n",
    "Lire le fichier (CSV, Excel, SQL, etc.)\n",
    "\n",
    "Aperçu général : .head(), .shape, .info(), .describe()\n",
    "\n",
    "🔹 2. Compréhension du contexte métier\n",
    "Quelle est la cible (target) ?\n",
    "\n",
    "Que représente chaque variable ?\n",
    "\n",
    "Quelle est la finalité (ex : prédire une maladie, un score, une vente) ?\n",
    "\n",
    "🔹 3. Analyse des variables\n",
    "a. Quantitatives (nombres) :\n",
    "Moyenne, médiane, min/max, écart-type\n",
    "\n",
    "Distribution (histogrammes, boxplots)\n",
    "\n",
    "Détection des outliers\n",
    "\n",
    "b. Qualitatives (catégorielles) :\n",
    "Nombre de classes, fréquence\n",
    "\n",
    "Bar charts / pie charts\n",
    "\n",
    "🔹 4. Valeurs manquantes\n",
    "Pourcentage de valeurs nulles\n",
    "\n",
    "Répartition par variable\n",
    "\n",
    "Visualisation avec missingno ou heatmaps\n",
    "\n",
    "Plan de traitement : suppression, imputation, etc.\n",
    "\n",
    "🔹 5. Corrélations entre variables\n",
    "Matrice de corrélation (heatmap)\n",
    "\n",
    "Vérifier multicolinéarité\n",
    "\n",
    "Étude croisée entre variables : pairplot, groupby, etc.\n",
    "\n",
    "🔹 6. Analyse de la variable cible (target)\n",
    "Distribution (équilibre ou déséquilibre ?)\n",
    "\n",
    "Taux de classes (pour classification)\n",
    "\n",
    "Analyse bivariée : target vs features\n",
    "\n",
    "Boxplots, Violinplots, t-tests, ANOVA\n",
    "\n",
    "Tests statistiques pour les hypothèses (H0)\n",
    "\n",
    "🔹 7. Détection des anomalies et valeurs aberrantes\n",
    "Visualisation : Boxplots, Z-score, IQR\n",
    "\n",
    "Impact potentiel sur la modélisation\n",
    "\n",
    "🔹 8. Formulation d’hypothèses\n",
    "Exemples :\n",
    "\n",
    "\"Les patients covid+ ont un taux de leucocytes plus élevé que les autres\"\n",
    "\n",
    "\"L’âge est inversement lié à la présence de tel symptôme\"\n",
    "\n",
    "🔹 9. Préparation à la modélisation\n",
    "Sélection des variables pertinentes\n",
    "\n",
    "Idée de transformation : normalisation, standardisation, encodage\n",
    "\n",
    "Réflexion sur un plan de modélisation"
   ]
  },
  {
   "cell_type": "markdown",
   "id": "829ba509-4f8f-4ba9-93f3-15dd5814b473",
   "metadata": {},
   "source": [
    "Objectif :\n",
    "Comprendre du mieux possible nos données (un petit pas en avant vaut mieux qu'un grand pas en arriere)\n",
    "Développer une premiere stratégie de modélisation\n",
    "Checklist de base\n",
    "\n",
    "Analyse des valeurs manquantes :\n",
    "beaucoup de NaN (moitié des variables > 90% de NaN)\n",
    "2 groupes de données 76% -> Test viral, 89% -> taux sanguins\n",
    "Analyse de Fond :\n",
    "Visualisation de la target :\n",
    "\n",
    "10% de positifs (558 / 5000)\n",
    "Signification des variables :\n",
    "\n",
    "variables continues standardisées, skewed (asymétriques), test sanguin\n",
    "age quantile : difficile d'interpreter ce graphique, clairement ces données ont été traitées, on pourrait penser 0-5, mais cela pourrait aussi etre une transformation mathématique. On peut pas savoir car la personne qui a mit ce dataset ne le précise nul part. Mais ca n'est pas tres important\n",
    "variable qualitative : binaire (0, 1), viral, Rhinovirus qui semble tres élevée\n",
    "Relation Variables / Target :\n",
    "\n",
    "target / blood : les taux de Monocytes, Platelets, Leukocytes semblent liés au covid-19 -> hypothese a tester\n",
    "target/age : les individus de faible age sont tres peu contaminés ? -> attention on ne connait pas l'age, et on ne sait pas de quand date le dataset (s'il s'agit des enfants on sait que les enfants sont touchés autant que les adultes). En revanche cette variable pourra etre intéressante pour la comparer avec les résultats de tests sanguins\n",
    "target / viral : les doubles maladies sont tres rares. Rhinovirus/Enterovirus positif - covid-19 négatif ? -> hypothese a tester ? mais il est possible que la région est subie une épidémie de ce virus. De plus on peut tres bien avoir 2 virus en meme temps. Tout ca n'a aucun lien avec le covid-19\n",
    "Analyse plus détaillée\n",
    "Relation Variables / Variables :\n",
    "\n",
    "blood_data / blood_data : certaines variables sont tres corrélées : +0.9 (a suveiller plus tard)\n",
    "blood_data / age : tres faible corrélation entre age et taux sanguins\n",
    "viral / viral : influenza rapid test donne de mauvais résultats, il fauda peut-etre la laisser tomber\n",
    "relation maladie / blood data : Les taux sanguins entre malades et covid-19 sont différents\n",
    "relation hospitalisation / est malade :\n",
    "relation hospitalisation / blood : intéressant dans le cas ou on voudrait prédire dans quelle service un patient devrait aller\n",
    "NaN analyse : viral : 1350(92/8), blood : 600(87/13), both : 90\n",
    "\n",
    "hypotheses nulle (H0):\n",
    "Les individus atteints du covid-19 ont des taux de Leukocytes, Monocytes, Platelets significativement différents\n",
    "\n",
    "H0 = Les taux moyens sont ÉGAUX chez les individus positifs et négatifs\n",
    "Les individus atteints d'une quelconque maladie ont des taux significativement différents"
   ]
  },
  {
   "cell_type": "markdown",
   "id": "75f2cef3-bcdb-477b-9eb9-26075566aedb",
   "metadata": {},
   "source": [
    "## Rapport "
   ]
  },
  {
   "cell_type": "markdown",
   "id": "ec3caaf2-a446-42f7-9aa6-02cced586540",
   "metadata": {},
   "source": [
    "### Analyse de Forme :"
   ]
  },
  {
   "cell_type": "markdown",
   "id": "f5df65cd-b49a-46e8-a4cd-61dadb8ce9e4",
   "metadata": {},
   "source": [
    " **variable target** : Outcome\n",
    " \n",
    "**lignes et colonnes** : 768, 9\n",
    "\n",
    "**types de variables** : qualitatives : 22, quantitatives : 78\n",
    "\n",
    "**Analyse des valeurs manquantes :**  aucune valeure null \n",
    "                "
   ]
  },
  {
   "cell_type": "markdown",
   "id": "74ba74db-7f68-4c45-84c8-4a0723622f92",
   "metadata": {},
   "source": [
    "### Analyse de Fond :\n"
   ]
  },
  {
   "cell_type": "markdown",
   "id": "6bef090a-4845-4eb2-a43f-d54618b8ee10",
   "metadata": {},
   "source": [
    "**visualisation de la target:** \n"
   ]
  },
  {
   "cell_type": "markdown",
   "id": "00d1fe21-e317-433b-9e34-c78d98b02f13",
   "metadata": {},
   "source": [
    "# Analyse de Forme :"
   ]
  },
  {
   "cell_type": "code",
   "execution_count": 3,
   "id": "c6ddc3be-62d3-4cac-b2d2-bf8e0b1579b7",
   "metadata": {},
   "outputs": [],
   "source": [
    "import numpy as np \n",
    "import pandas as pd\n",
    "import matplotlib.pyplot as plt \n",
    "import seaborn as sns"
   ]
  },
  {
   "cell_type": "code",
   "execution_count": 4,
   "id": "bdcaecdc-98c8-4a53-8b94-0fcc75a07c98",
   "metadata": {},
   "outputs": [
    {
     "name": "stdout",
     "output_type": "stream",
     "text": [
      "(768, 9)\n"
     ]
    },
    {
     "data": {
      "text/html": [
       "<div>\n",
       "<style scoped>\n",
       "    .dataframe tbody tr th:only-of-type {\n",
       "        vertical-align: middle;\n",
       "    }\n",
       "\n",
       "    .dataframe tbody tr th {\n",
       "        vertical-align: top;\n",
       "    }\n",
       "\n",
       "    .dataframe thead th {\n",
       "        text-align: right;\n",
       "    }\n",
       "</style>\n",
       "<table border=\"1\" class=\"dataframe\">\n",
       "  <thead>\n",
       "    <tr style=\"text-align: right;\">\n",
       "      <th></th>\n",
       "      <th>Pregnancies</th>\n",
       "      <th>Glucose</th>\n",
       "      <th>BloodPressure</th>\n",
       "      <th>SkinThickness</th>\n",
       "      <th>Insulin</th>\n",
       "      <th>BMI</th>\n",
       "      <th>DiabetesPedigreeFunction</th>\n",
       "      <th>Age</th>\n",
       "      <th>Outcome</th>\n",
       "    </tr>\n",
       "  </thead>\n",
       "  <tbody>\n",
       "    <tr>\n",
       "      <th>0</th>\n",
       "      <td>6</td>\n",
       "      <td>148</td>\n",
       "      <td>72</td>\n",
       "      <td>35</td>\n",
       "      <td>0</td>\n",
       "      <td>33.6</td>\n",
       "      <td>0.627</td>\n",
       "      <td>50</td>\n",
       "      <td>1</td>\n",
       "    </tr>\n",
       "    <tr>\n",
       "      <th>1</th>\n",
       "      <td>1</td>\n",
       "      <td>85</td>\n",
       "      <td>66</td>\n",
       "      <td>29</td>\n",
       "      <td>0</td>\n",
       "      <td>26.6</td>\n",
       "      <td>0.351</td>\n",
       "      <td>31</td>\n",
       "      <td>0</td>\n",
       "    </tr>\n",
       "    <tr>\n",
       "      <th>2</th>\n",
       "      <td>8</td>\n",
       "      <td>183</td>\n",
       "      <td>64</td>\n",
       "      <td>0</td>\n",
       "      <td>0</td>\n",
       "      <td>23.3</td>\n",
       "      <td>0.672</td>\n",
       "      <td>32</td>\n",
       "      <td>1</td>\n",
       "    </tr>\n",
       "    <tr>\n",
       "      <th>3</th>\n",
       "      <td>1</td>\n",
       "      <td>89</td>\n",
       "      <td>66</td>\n",
       "      <td>23</td>\n",
       "      <td>94</td>\n",
       "      <td>28.1</td>\n",
       "      <td>0.167</td>\n",
       "      <td>21</td>\n",
       "      <td>0</td>\n",
       "    </tr>\n",
       "    <tr>\n",
       "      <th>4</th>\n",
       "      <td>0</td>\n",
       "      <td>137</td>\n",
       "      <td>40</td>\n",
       "      <td>35</td>\n",
       "      <td>168</td>\n",
       "      <td>43.1</td>\n",
       "      <td>2.288</td>\n",
       "      <td>33</td>\n",
       "      <td>1</td>\n",
       "    </tr>\n",
       "  </tbody>\n",
       "</table>\n",
       "</div>"
      ],
      "text/plain": [
       "   Pregnancies  Glucose  BloodPressure  SkinThickness  Insulin   BMI  \\\n",
       "0            6      148             72             35        0  33.6   \n",
       "1            1       85             66             29        0  26.6   \n",
       "2            8      183             64              0        0  23.3   \n",
       "3            1       89             66             23       94  28.1   \n",
       "4            0      137             40             35      168  43.1   \n",
       "\n",
       "   DiabetesPedigreeFunction  Age  Outcome  \n",
       "0                     0.627   50        1  \n",
       "1                     0.351   31        0  \n",
       "2                     0.672   32        1  \n",
       "3                     0.167   21        0  \n",
       "4                     2.288   33        1  "
      ]
     },
     "execution_count": 4,
     "metadata": {},
     "output_type": "execute_result"
    }
   ],
   "source": [
    "import pandas as pd \n",
    "df = pd.read_csv('../data/diabetes.csv')\n",
    "\n",
    "print(df.shape)\n",
    "df.head()"
   ]
  },
  {
   "cell_type": "code",
   "execution_count": 5,
   "id": "fccd4ef2-0600-442e-ac38-5b2dcffd7a74",
   "metadata": {},
   "outputs": [
    {
     "name": "stdout",
     "output_type": "stream",
     "text": [
      "<class 'pandas.core.frame.DataFrame'>\n",
      "RangeIndex: 768 entries, 0 to 767\n",
      "Data columns (total 9 columns):\n",
      " #   Column                    Non-Null Count  Dtype  \n",
      "---  ------                    --------------  -----  \n",
      " 0   Pregnancies               768 non-null    int64  \n",
      " 1   Glucose                   768 non-null    int64  \n",
      " 2   BloodPressure             768 non-null    int64  \n",
      " 3   SkinThickness             768 non-null    int64  \n",
      " 4   Insulin                   768 non-null    int64  \n",
      " 5   BMI                       768 non-null    float64\n",
      " 6   DiabetesPedigreeFunction  768 non-null    float64\n",
      " 7   Age                       768 non-null    int64  \n",
      " 8   Outcome                   768 non-null    int64  \n",
      "dtypes: float64(2), int64(7)\n",
      "memory usage: 54.1 KB\n"
     ]
    }
   ],
   "source": [
    "df.info()"
   ]
  },
  {
   "cell_type": "code",
   "execution_count": 9,
   "id": "e8b44327-bbf3-4e57-8c22-d8ba008aa998",
   "metadata": {},
   "outputs": [
    {
     "data": {
      "text/html": [
       "<div>\n",
       "<style scoped>\n",
       "    .dataframe tbody tr th:only-of-type {\n",
       "        vertical-align: middle;\n",
       "    }\n",
       "\n",
       "    .dataframe tbody tr th {\n",
       "        vertical-align: top;\n",
       "    }\n",
       "\n",
       "    .dataframe thead th {\n",
       "        text-align: right;\n",
       "    }\n",
       "</style>\n",
       "<table border=\"1\" class=\"dataframe\">\n",
       "  <thead>\n",
       "    <tr style=\"text-align: right;\">\n",
       "      <th></th>\n",
       "      <th>Pregnancies</th>\n",
       "      <th>Glucose</th>\n",
       "      <th>BloodPressure</th>\n",
       "      <th>SkinThickness</th>\n",
       "      <th>Insulin</th>\n",
       "      <th>BMI</th>\n",
       "      <th>DiabetesPedigreeFunction</th>\n",
       "      <th>Age</th>\n",
       "      <th>Outcome</th>\n",
       "    </tr>\n",
       "  </thead>\n",
       "  <tbody>\n",
       "    <tr>\n",
       "      <th>count</th>\n",
       "      <td>768.000000</td>\n",
       "      <td>768.000000</td>\n",
       "      <td>768.000000</td>\n",
       "      <td>768.000000</td>\n",
       "      <td>768.000000</td>\n",
       "      <td>768.000000</td>\n",
       "      <td>768.000000</td>\n",
       "      <td>768.000000</td>\n",
       "      <td>768.000000</td>\n",
       "    </tr>\n",
       "    <tr>\n",
       "      <th>mean</th>\n",
       "      <td>3.845052</td>\n",
       "      <td>120.894531</td>\n",
       "      <td>69.105469</td>\n",
       "      <td>20.536458</td>\n",
       "      <td>79.799479</td>\n",
       "      <td>31.992578</td>\n",
       "      <td>0.471876</td>\n",
       "      <td>33.240885</td>\n",
       "      <td>0.348958</td>\n",
       "    </tr>\n",
       "    <tr>\n",
       "      <th>std</th>\n",
       "      <td>3.369578</td>\n",
       "      <td>31.972618</td>\n",
       "      <td>19.355807</td>\n",
       "      <td>15.952218</td>\n",
       "      <td>115.244002</td>\n",
       "      <td>7.884160</td>\n",
       "      <td>0.331329</td>\n",
       "      <td>11.760232</td>\n",
       "      <td>0.476951</td>\n",
       "    </tr>\n",
       "    <tr>\n",
       "      <th>min</th>\n",
       "      <td>0.000000</td>\n",
       "      <td>0.000000</td>\n",
       "      <td>0.000000</td>\n",
       "      <td>0.000000</td>\n",
       "      <td>0.000000</td>\n",
       "      <td>0.000000</td>\n",
       "      <td>0.078000</td>\n",
       "      <td>21.000000</td>\n",
       "      <td>0.000000</td>\n",
       "    </tr>\n",
       "    <tr>\n",
       "      <th>25%</th>\n",
       "      <td>1.000000</td>\n",
       "      <td>99.000000</td>\n",
       "      <td>62.000000</td>\n",
       "      <td>0.000000</td>\n",
       "      <td>0.000000</td>\n",
       "      <td>27.300000</td>\n",
       "      <td>0.243750</td>\n",
       "      <td>24.000000</td>\n",
       "      <td>0.000000</td>\n",
       "    </tr>\n",
       "    <tr>\n",
       "      <th>50%</th>\n",
       "      <td>3.000000</td>\n",
       "      <td>117.000000</td>\n",
       "      <td>72.000000</td>\n",
       "      <td>23.000000</td>\n",
       "      <td>30.500000</td>\n",
       "      <td>32.000000</td>\n",
       "      <td>0.372500</td>\n",
       "      <td>29.000000</td>\n",
       "      <td>0.000000</td>\n",
       "    </tr>\n",
       "    <tr>\n",
       "      <th>75%</th>\n",
       "      <td>6.000000</td>\n",
       "      <td>140.250000</td>\n",
       "      <td>80.000000</td>\n",
       "      <td>32.000000</td>\n",
       "      <td>127.250000</td>\n",
       "      <td>36.600000</td>\n",
       "      <td>0.626250</td>\n",
       "      <td>41.000000</td>\n",
       "      <td>1.000000</td>\n",
       "    </tr>\n",
       "    <tr>\n",
       "      <th>max</th>\n",
       "      <td>17.000000</td>\n",
       "      <td>199.000000</td>\n",
       "      <td>122.000000</td>\n",
       "      <td>99.000000</td>\n",
       "      <td>846.000000</td>\n",
       "      <td>67.100000</td>\n",
       "      <td>2.420000</td>\n",
       "      <td>81.000000</td>\n",
       "      <td>1.000000</td>\n",
       "    </tr>\n",
       "  </tbody>\n",
       "</table>\n",
       "</div>"
      ],
      "text/plain": [
       "       Pregnancies     Glucose  BloodPressure  SkinThickness     Insulin  \\\n",
       "count   768.000000  768.000000     768.000000     768.000000  768.000000   \n",
       "mean      3.845052  120.894531      69.105469      20.536458   79.799479   \n",
       "std       3.369578   31.972618      19.355807      15.952218  115.244002   \n",
       "min       0.000000    0.000000       0.000000       0.000000    0.000000   \n",
       "25%       1.000000   99.000000      62.000000       0.000000    0.000000   \n",
       "50%       3.000000  117.000000      72.000000      23.000000   30.500000   \n",
       "75%       6.000000  140.250000      80.000000      32.000000  127.250000   \n",
       "max      17.000000  199.000000     122.000000      99.000000  846.000000   \n",
       "\n",
       "              BMI  DiabetesPedigreeFunction         Age     Outcome  \n",
       "count  768.000000                768.000000  768.000000  768.000000  \n",
       "mean    31.992578                  0.471876   33.240885    0.348958  \n",
       "std      7.884160                  0.331329   11.760232    0.476951  \n",
       "min      0.000000                  0.078000   21.000000    0.000000  \n",
       "25%     27.300000                  0.243750   24.000000    0.000000  \n",
       "50%     32.000000                  0.372500   29.000000    0.000000  \n",
       "75%     36.600000                  0.626250   41.000000    1.000000  \n",
       "max     67.100000                  2.420000   81.000000    1.000000  "
      ]
     },
     "execution_count": 9,
     "metadata": {},
     "output_type": "execute_result"
    }
   ],
   "source": [
    "df.describe()"
   ]
  },
  {
   "cell_type": "code",
   "execution_count": 35,
   "id": "80d8f299-ff85-4eb1-a37e-5bd3af312331",
   "metadata": {},
   "outputs": [
    {
     "data": {
      "text/plain": [
       "<Axes: ylabel='proportion'>"
      ]
     },
     "execution_count": 35,
     "metadata": {},
     "output_type": "execute_result"
    },
    {
     "data": {
      "image/png": "[encoded data removed]",
      "text/plain": [
       "<Figure size 640x480 with 1 Axes>"
      ]
     },
     "metadata": {},
     "output_type": "display_data"
    }
   ],
   "source": [
    "df.dtypes.value_counts('%').plot.pie()"
   ]
  },
  {
   "cell_type": "code",
   "execution_count": 37,
   "id": "e8cbb296-aa4a-468b-9f84-2820dd67d4a7",
   "metadata": {},
   "outputs": [
    {
     "data": {
      "text/plain": [
       "Pregnancies                 0\n",
       "Glucose                     0\n",
       "BloodPressure               0\n",
       "SkinThickness               0\n",
       "Insulin                     0\n",
       "BMI                         0\n",
       "DiabetesPedigreeFunction    0\n",
       "Age                         0\n",
       "Outcome                     0\n",
       "dtype: int64"
      ]
     },
     "execution_count": 37,
     "metadata": {},
     "output_type": "execute_result"
    }
   ],
   "source": [
    "df.isna().sum()"
   ]
  },
  {
   "cell_type": "code",
   "execution_count": 9,
   "id": "599c05bd-157d-45b1-b94e-61ccbcde6bfd",
   "metadata": {},
   "outputs": [
    {
     "data": {
      "text/plain": [
       "<Axes: >"
      ]
     },
     "execution_count": 9,
     "metadata": {},
     "output_type": "execute_result"
    },
    {
     "data": {
      "image/png": "[encoded data removed]",
      "text/plain": [
       "<Figure size 2000x1000 with 1 Axes>"
      ]
     },
     "metadata": {},
     "output_type": "display_data"
    }
   ],
   "source": [
    "plt.figure(figsize=(20,10))\n",
    "sns.heatmap(df.isna(),cbar=False)"
   ]
  },
  {
   "cell_type": "markdown",
   "id": "5f85ba4d-094a-40ef-b0ee-f95def245af9",
   "metadata": {},
   "source": [
    "# Analayse de fond : "
   ]
  },
  {
   "cell_type": "code",
   "execution_count": 61,
   "id": "238aad17-7b26-41a0-89ec-a040e565f611",
   "metadata": {},
   "outputs": [
    {
     "data": {
      "text/plain": [
       "Pregnancies                 500\n",
       "Glucose                     500\n",
       "BloodPressure               500\n",
       "SkinThickness               500\n",
       "Insulin                     500\n",
       "BMI                         500\n",
       "DiabetesPedigreeFunction    500\n",
       "Age                         500\n",
       "Outcome                     500\n",
       "dtype: int64"
      ]
     },
     "execution_count": 61,
     "metadata": {},
     "output_type": "execute_result"
    }
   ],
   "source": [
    "df[df['Outcome']==0].count()"
   ]
  },
  {
   "cell_type": "code",
   "execution_count": 87,
   "id": "7dcf9245-f10a-4d48-94f7-4313b034b7ee",
   "metadata": {},
   "outputs": [
    {
     "data": {
      "text/plain": [
       "0.3489583333333333"
      ]
     },
     "execution_count": 87,
     "metadata": {},
     "output_type": "execute_result"
    }
   ],
   "source": [
    "df[df['Outcome']==1]['Outcome'].count()/df.shape[0]"
   ]
  },
  {
   "cell_type": "code",
   "execution_count": 111,
   "id": "1543d89b-d1f2-41f6-b79c-1601163dcfad",
   "metadata": {},
   "outputs": [
    {
     "data": {
      "text/plain": [
       "0.6510416666666666"
      ]
     },
     "execution_count": 111,
     "metadata": {},
     "output_type": "execute_result"
    }
   ],
   "source": [
    "df[df['Outcome']==0]['Outcome'].count()/df.shape[0]"
   ]
  },
  {
   "cell_type": "code",
   "execution_count": 120,
   "id": "4a14f6b4-488d-48f9-a093-ab74b1a0f8e6",
   "metadata": {},
   "outputs": [
    {
     "data": {
      "text/plain": [
       "<bound method PlotAccessor.pie of <pandas.plotting._core.PlotAccessor object at 0x000002C1AE3E8C80>>"
      ]
     },
     "execution_count": 120,
     "metadata": {},
     "output_type": "execute_result"
    }
   ],
   "source": [
    "df['Outcome'].value_counts(normalize=True).plot.pie"
   ]
  },
  {
   "cell_type": "code",
   "execution_count": null,
   "id": "e3bedd50-5760-4c29-a82b-c0aad3571e70",
   "metadata": {},
   "outputs": [],
   "source": []
  }
 ],
 "metadata": {
  "kernelspec": {
   "display_name": "Python [conda env:base] *",
   "language": "python",
   "name": "conda-base-py"
  },
  "language_info": {
   "codemirror_mode": {
    "name": "ipython",
    "version": 3
   },
   "file_extension": ".py",
   "mimetype": "text/x-python",
   "name": "python",
   "nbconvert_exporter": "python",
   "pygments_lexer": "ipython3",
   "version": "3.12.7"
  }
 },
 "nbformat": 4,
 "nbformat_minor": 5
}
